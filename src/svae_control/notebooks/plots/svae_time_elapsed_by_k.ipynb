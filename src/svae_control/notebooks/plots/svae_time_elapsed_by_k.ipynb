{
 "cells": [
  {
   "cell_type": "code",
   "execution_count": 1,
   "id": "4a987a40-b3ad-48b1-b99f-223cd28f7ce4",
   "metadata": {},
   "outputs": [],
   "source": [
    "import matplotlib.pyplot as plt\n",
    "import os \n",
    "import sys\n",
    "import pickle"
   ]
  },
  {
   "cell_type": "code",
   "execution_count": 2,
   "id": "4eb256bb-c1ce-4da0-9f53-176a54d110e7",
   "metadata": {},
   "outputs": [
    {
     "data": {
      "text/plain": [
       "'/home/james/projects/master_project/svae-control/src/svae_control/notebooks'"
      ]
     },
     "execution_count": 2,
     "metadata": {},
     "output_type": "execute_result"
    }
   ],
   "source": [
    "FOLDER_LOCATION = f\"{os.getcwd().split('/plots')[0]}\"\n",
    "FOLDER_LOCATION"
   ]
  },
  {
   "cell_type": "code",
   "execution_count": 4,
   "id": "6ea4bbc6-858a-4af1-9aaf-f0b4f850403e",
   "metadata": {},
   "outputs": [],
   "source": [
    "from typing import Callable\n",
    "def load_time(file_lambda: Callable, latent_dim, num_iters: int):\n",
    "    filename = file_lambda(latent_dim)\n",
    "    with open(filename, \"rb\") as f: \n",
    "        elapsed = pickle.load(f)\n",
    "    return num_iters / elapsed\n",
    "\n",
    "TEN_K = 10000\n",
    "TWENTY_FIVE_K = 25000"
   ]
  },
  {
   "cell_type": "code",
   "execution_count": 12,
   "id": "d5d4ba6f-e87f-43f9-88b4-bad6058fbf96",
   "metadata": {},
   "outputs": [
    {
     "data": {
      "text/plain": [
       "{5: 4.162644447375073,\n",
       " 10: 3.1170169225903046,\n",
       " 16: 2.999944322755038,\n",
       " 32: 2.3207282116285732}"
      ]
     },
     "execution_count": 12,
     "metadata": {},
     "output_type": "execute_result"
    }
   ],
   "source": [
    "svae_file_lambda = lambda x: f\"{FOLDER_LOCATION}/noisy_locations/params/svae_time_elapsed_seed_2_dim_{x}.pkl\"\n",
    "svae_file_lambda_no_dim = lambda x: f\"{FOLDER_LOCATION}/noisy_locations/params/svae_time_elapsed_seed_2.pkl\"\n",
    "svae_GPS_time = {dim: load_time(svae_file_lambda, dim, TEN_K) for dim in [5, 10, 16]} \n",
    "svae_GPS_time[32] = load_time(svae_file_lambda_no_dim, 9999, TEN_K)\n",
    "svae_GPS_time"
   ]
  },
  {
   "cell_type": "code",
   "execution_count": 13,
   "id": "5c37323d-c083-41dd-884f-b8555306955e",
   "metadata": {},
   "outputs": [
    {
     "data": {
      "text/plain": [
       "{5: 4.009399418477137,\n",
       " 10: 2.9651846577327023,\n",
       " 16: 2.847052089616589,\n",
       " 32: 2.4350877389561862}"
      ]
     },
     "execution_count": 13,
     "metadata": {},
     "output_type": "execute_result"
    }
   ],
   "source": [
    "svae_file_lambda = lambda x: f\"{FOLDER_LOCATION}/sensor_observations/params/svae_time_elapsed_seed_2_dim_{x}.pkl\"\n",
    "svae_file_lambda_no_dim = lambda x: f\"{FOLDER_LOCATION}/sensor_observations/params/svae_time_elapsed_seed_2.pkl\"\n",
    "svae_beacon_time = {dim: load_time(svae_file_lambda, dim, TEN_K) for dim in [5, 10, 16]} \n",
    "svae_beacon_time[32] = load_time(svae_file_lambda_no_dim, 9999, TEN_K)\n",
    "svae_beacon_time"
   ]
  },
  {
   "cell_type": "code",
   "execution_count": 16,
   "id": "93941c7e-0721-4ba2-a746-38daf266a796",
   "metadata": {},
   "outputs": [
    {
     "data": {
      "text/plain": [
       "{5: 7.9181872900118595,\n",
       " 10: 7.020565022223069,\n",
       " 16: 4.627146965784758,\n",
       " 32: 3.661080196451682}"
      ]
     },
     "execution_count": 16,
     "metadata": {},
     "output_type": "execute_result"
    }
   ],
   "source": [
    "svae_file_lambda = lambda x: f\"{FOLDER_LOCATION}/image_observations/params/svae_time_elapsed_seed_1_dim_{x}.pkl\"\n",
    "svae_file_lambda_no_dim = lambda x: f\"{FOLDER_LOCATION}/image_observations/params/svae_time_elapsed_seed_1.pkl\"\n",
    "svae_image_time = {dim: load_time(svae_file_lambda, dim, TWENTY_FIVE_K) for dim in [5, 10, 16]} \n",
    "svae_image_time[32] = load_time(svae_file_lambda_no_dim, 9999, TWENTY_FIVE_K)\n",
    "svae_image_time"
   ]
  },
  {
   "cell_type": "code",
   "execution_count": 17,
   "id": "6ae1b5cf-8e93-41d6-8bd7-27252a0a29b5",
   "metadata": {},
   "outputs": [
    {
     "data": {
      "text/plain": [
       "{5: 8.391006104455494,\n",
       " 10: 7.615332763869106,\n",
       " 16: 4.665383209831516,\n",
       " 32: 3.8574873839678743}"
      ]
     },
     "execution_count": 17,
     "metadata": {},
     "output_type": "execute_result"
    }
   ],
   "source": [
    "svae_file_lambda = lambda x: f\"{FOLDER_LOCATION}/corrupted_image_observations/params/svae_time_elapsed_seed_2_dim_{x}.pkl\"\n",
    "svae_file_lambda_no_dim = lambda x: f\"{FOLDER_LOCATION}/corrupted_image_observations/params/svae_time_elapsed_seed_2.pkl\"\n",
    "svae_image_time = {dim: load_time(svae_file_lambda, dim, TWENTY_FIVE_K) for dim in [5, 10, 16]} \n",
    "svae_image_time[32] = load_time(svae_file_lambda_no_dim, 9999, TWENTY_FIVE_K)\n",
    "svae_image_time"
   ]
  }
 ],
 "metadata": {
  "kernelspec": {
   "display_name": "Python 3 (ipykernel)",
   "language": "python",
   "name": "python3"
  },
  "language_info": {
   "codemirror_mode": {
    "name": "ipython",
    "version": 3
   },
   "file_extension": ".py",
   "mimetype": "text/x-python",
   "name": "python",
   "nbconvert_exporter": "python",
   "pygments_lexer": "ipython3",
   "version": "3.12.3"
  }
 },
 "nbformat": 4,
 "nbformat_minor": 5
}
